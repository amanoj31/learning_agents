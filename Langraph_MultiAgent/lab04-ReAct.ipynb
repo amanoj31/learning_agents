{
 "cells": [
  {
   "cell_type": "markdown",
   "metadata": {},
   "source": [
    "<p style=\"text-align:center\">\n",
    "    <a href=\"https://skills.network\" target=\"_blank\">\n",
    "    <img src=\"https://cf-courses-data.s3.us.cloud-object-storage.appdomain.cloud/assets/logos/SN_web_lightmode.png\" width=\"200\" alt=\"Skills Network Logo\"  />\n",
    "    </a>\n",
    "</p>\n"
   ]
  },
  {
   "cell_type": "markdown",
   "metadata": {},
   "source": [
    "# **ReAct: Build Reasoning and Acting AI Agents with LangGraph**\n"
   ]
  },
  {
   "cell_type": "markdown",
   "metadata": {},
   "source": [
    "Estimated time needed: **90** minutes\n"
   ]
  },
  {
   "cell_type": "markdown",
   "metadata": {},
   "source": [
    "You're a software engineer on a mission: build an AI agent that doesn't just respond—it thinks. In this lab, you'll step into the role of an AI architect, designing a smart assistant that solves tough problems by reasoning through them and taking purposeful actions.\n",
    "\n",
    "Using the ReAct (Reasoning + Acting) framework, you'll teach your agent to think step by step, consult tools like search engines or calculators, and adapt on the fly. It’s not just about answers—it’s about how the agent gets there.\n",
    "\n",
    "By the end of the lab, your AI will face a mystery that can’t be solved with knowledge alone. It will need logic, resourcefulness, and the ability to act—just like you, the engineer who built it.\n",
    "\n",
    "## What is ReAct?\n",
    "\n",
    "**ReAct** stands for **Reasoning + Acting**. It's a framework that combines:\n",
    "\n",
    "1. **Reasoning**: The agent thinks through problems step by step, maintaining an internal dialogue about what it needs to do.\n",
    "2. **Acting**: The agent can use external tools (search engines, calculators, APIs) to gather information or perform actions.\n",
    "3. **Observing**: The agent processes the results from its actions and incorporates them into its reasoning.\n",
    "\n",
    "This creates a powerful loop: **Think → Act → Observe → Think → Act → ...**\n",
    "\n",
    "### Why ReAct Matters\n",
    "\n",
    "Traditional language models are limited by their training data cutoff and can't access real-time information. ReAct agents overcome this by:\n",
    "- Accessing current information through web searches\n",
    "- Performing calculations with specialized tools\n",
    "- Breaking down complex problems into manageable steps\n",
    "- Adapting their approach based on intermediate results\n"
   ]
  },
  {
   "cell_type": "markdown",
   "metadata": {},
   "source": [
    "## __Table of Contents__\n",
    "\n",
    "<ol>\n",
    "    <li><a href=\"#Objectives\">Objectives</a></li>\n",
    "    <li>\n",
    "        <a href=\"#Setup-&-Installation\">Setup & Installation</a>\n",
    "        <ol>\n",
    "            <li><a href=\"#Installing-Required-Libraries\">Installing Required Libraries</a></li>\n",
    "            <li><a href=\"#Importing-Required-Libraries\">Importing Required Libraries</a></li>\n",
    "        </ol>\n",
    "    </li>\n",
    "    <li>\n",
    "        <a href=\"#Understanding-Tools-in-ReAct\">Understanding Tools in ReAct</a>\n",
    "        <ol>\n",
    "            <li><a href=\"#1.-Web-Search-Tool\">1. Web Search Tool</a></li>\n",
    "            <li><a href=\"#Theory-behind-Web-Search-Tools\">Theory behind Web Search Tools</a></li>\n",
    "            <li><a href=\"#Testing-the-Search-Tool\">Testing the Search Tool</a></li>\n",
    "            <li><a href=\"#2.-Clothing-Recommendation-Tool\">2. Clothing Recommendation Tool</a></li>\n",
    "            <li><a href=\"#Why-this-Tool-Matters\">Why this Tool Matters</a></li>\n",
    "            <li><a href=\"#Creating-the-tool-Registry\">Creating the tool Registry</a></li>\n",
    "        </ol>\n",
    "    </li>\n",
    "    <li>\n",
    "        <a href=\"#Setting-up-the-Language-Model\">Setting up the Language Model</a>\n",
    "        <ol>\n",
    "            <li><a href=\"#Initializing-the-AI-Model\">Initializing the AI Model</a></li>\n",
    "            <li><a href=\"#Creating-the-System-Prompt\">Creating the System Prompt</a></li>\n",
    "            <li><a href=\"#The-System-Prompt's-Role\">The System Prompt's Role</a></li>\n",
    "            <li><a href=\"#Binding-Tools-to-the-Model\">Binding Tools to the Model</a></li>\n",
    "            <li>\n",
    "                <a href=\"#Understanding-Agent-State\">Understanding Agent State</a>\n",
    "                <ol>\n",
    "                    <li><a href=\"#What-is-Agent-State?\">What is Agent State?</a></li>\n",
    "                    <li><a href=\"#Demonstrating-State-Management\">Demonstrating State Management</a></li>\n",
    "                </ol>\n",
    "            </li>\n",
    "            <li>\n",
    "                <a href=\"#Manual-ReAct-Execution-(Understanding-the-Flow)\">Manual ReAct Execution (Understanding the Flow)</a>\n",
    "                <ol>\n",
    "                    <li><a href=\"#Step-1:-Initial-Query-Processing\">Step 1: Initial Query Processing</a></li>\n",
    "                    <li><a href=\"#Step-2:-Tool-Execution\">Step 2: Tool Execution</a></li>\n",
    "                    <li><a href=\"#Step-3:-Processing-Results-and-Next-Action\">Step 3: Processing Results and Next Action</a></li>\n",
    "                    <li><a href=\"#Step-4:-Final-Response-Generation\">Step 4: Final Response Generation</a></li>\n",
    "                </ol>\n",
    "            </li>\n",
    "            <li>\n",
    "                <a href=\"#Automating-ReAct-with-Graphs\">Automating ReAct with Graphs</a>\n",
    "                <ol>\n",
    "                    <li><a href=\"#Why-Use-Graphs?\">Why Use Graphs?</a></li>\n",
    "                    <li><a href=\"#Building-the-Core-Functions\">Building the Core Functions</a></li>\n",
    "                    <li><a href=\"#Constructing-the-State-Graph\">Constructing the State Graph</a></li>\n",
    "                    <li><a href=\"#Visualizing-the-Graph\">Visualizing the Graph</a></li>\n",
    "                </ol>\n",
    "            </li>\n",
    "            <li>\n",
    "                <a href=\"#Running-the-Complete-ReAct-Agent\">Running the Complete ReAct Agent</a>\n",
    "                <ol>\n",
    "                    <li><a href=\"#Final-Execution\">Final Execution</a></li>\n",
    "                    <li><a href=\"#The-Complete-ReAct-Cycle\">The Complete ReAct Cycle</a></li>\n",
    "                </ol>\n",
    "            </li>\n",
    "        </ol>\n",
    "    </li>\n",
    "    <li>\n",
    "        <a href=\"#Key-Takeaways\">Key Takeaways</a>\n",
    "        <ol>\n",
    "            <li><a href=\"#What-Makes-ReAct-Powerful\">What Makes ReAct Powerful</a></li>\n",
    "            <li><a href=\"#Best-Practices\">Best Practices</a></li>\n",
    "        </ol>\n",
    "    </li>\n",
    "    <li>\n",
    "        <a href=\"#Exercises\">Exercises</a>\n",
    "        <ol>\n",
    "            <li><a href=\"#Exercise-1---Build-a-Calculator-Tool\">Exercise 1 - Build a Calculator Tool</a></li>\n",
    "            <li><a href=\"#Exercise-2---Create-a-News-Summary-Tool\">Exercise 2 - Create a News Summary Tool</a></li>\n",
    "        </ol>\n",
    "    </li>\n",
    "    <li><a href=\"#Testing-Your-Solutions\">Testing Your Solutions</a></li>\n",
    "    <li><a href=\"#Authors\">Authors</a></li>\n",
    "</ol>\n"
   ]
  },
  {
   "cell_type": "markdown",
   "metadata": {},
   "source": [
    "## Objectives\n",
    "\n",
    "After completing this lab you will be able to:\n",
    "\n",
    " - Use the ReAct framework to solve multi-step problems with external tools\n",
    " - Teach an AI agent to reason step by step, take actions, and adapt based on results\n",
    " - Build a smart assistant that can handle tasks requiring logic and tool use\n"
   ]
  },
  {
   "cell_type": "markdown",
   "metadata": {},
   "source": [
    "----\n"
   ]
  },
  {
   "cell_type": "markdown",
   "metadata": {},
   "source": [
    "## Setup & Installation\n"
   ]
  },
  {
   "cell_type": "markdown",
   "metadata": {},
   "source": [
    "For this lab, we will be using the following libraries:\n",
    "\n",
    "\n",
    "- [`LangGraph`](https://www.langchain.com/langgraph): A framework for building stateful, multi-step AI applications using graphs.\n",
    "- [`LangChain`](https://www.langchain.com/): A toolkit that provides tools and abstractions for working with language models.\n",
    "- [`LangChain-OpenAI`](https://python.langchain.com/docs/integrations/llms/openai/): OpenAI integration for LangChain.\n",
    "- [`LangChain-Community`](https://python.langchain.com/api_reference/community/index.html): Community-contributed tools and integrations.\n"
   ]
  },
  {
   "cell_type": "markdown",
   "metadata": {},
   "source": [
    "### Installing Required Libraries\n"
   ]
  },
  {
   "cell_type": "code",
   "execution_count": 1,
   "metadata": {},
   "outputs": [
    {
     "name": "stdout",
     "output_type": "stream",
     "text": [
      "Requirement already satisfied: langgraph in /opt/conda/lib/python3.12/site-packages (1.0.1)\n",
      "Requirement already satisfied: langchain-openai in /opt/conda/lib/python3.12/site-packages (0.3.10)\n",
      "Collecting langchain-openai\n",
      "  Downloading langchain_openai-1.0.1-py3-none-any.whl.metadata (1.8 kB)\n",
      "Requirement already satisfied: langchain-core>=0.1 in /opt/conda/lib/python3.12/site-packages (from langgraph) (0.3.79)\n",
      "Requirement already satisfied: langgraph-checkpoint<4.0.0,>=2.1.0 in /opt/conda/lib/python3.12/site-packages (from langgraph) (2.1.2)\n",
      "Requirement already satisfied: langgraph-prebuilt<1.1.0,>=1.0.0 in /opt/conda/lib/python3.12/site-packages (from langgraph) (1.0.1)\n",
      "Requirement already satisfied: langgraph-sdk<0.3.0,>=0.2.2 in /opt/conda/lib/python3.12/site-packages (from langgraph) (0.2.9)\n",
      "Requirement already satisfied: pydantic>=2.7.4 in /opt/conda/lib/python3.12/site-packages (from langgraph) (2.10.6)\n",
      "Requirement already satisfied: xxhash>=3.5.0 in /opt/conda/lib/python3.12/site-packages (from langgraph) (3.6.0)\n",
      "Collecting langchain-core>=0.1 (from langgraph)\n",
      "  Using cached langchain_core-1.0.1-py3-none-any.whl.metadata (3.5 kB)\n",
      "Collecting openai<3.0.0,>=1.109.1 (from langchain-openai)\n",
      "  Downloading openai-2.6.1-py3-none-any.whl.metadata (29 kB)\n",
      "Requirement already satisfied: tiktoken<1.0.0,>=0.7.0 in /opt/conda/lib/python3.12/site-packages (from langchain-openai) (0.12.0)\n",
      "Requirement already satisfied: jsonpatch<2.0.0,>=1.33.0 in /opt/conda/lib/python3.12/site-packages (from langchain-core>=0.1->langgraph) (1.33)\n",
      "Requirement already satisfied: langsmith<1.0.0,>=0.3.45 in /opt/conda/lib/python3.12/site-packages (from langchain-core>=0.1->langgraph) (0.3.45)\n",
      "Requirement already satisfied: packaging<26.0.0,>=23.2.0 in /opt/conda/lib/python3.12/site-packages (from langchain-core>=0.1->langgraph) (24.2)\n",
      "Requirement already satisfied: pyyaml<7.0.0,>=5.3.0 in /opt/conda/lib/python3.12/site-packages (from langchain-core>=0.1->langgraph) (6.0.2)\n",
      "Requirement already satisfied: tenacity!=8.4.0,<10.0.0,>=8.1.0 in /opt/conda/lib/python3.12/site-packages (from langchain-core>=0.1->langgraph) (8.5.0)\n",
      "Requirement already satisfied: typing-extensions<5.0.0,>=4.7.0 in /opt/conda/lib/python3.12/site-packages (from langchain-core>=0.1->langgraph) (4.12.2)\n",
      "Requirement already satisfied: ormsgpack>=1.10.0 in /opt/conda/lib/python3.12/site-packages (from langgraph-checkpoint<4.0.0,>=2.1.0->langgraph) (1.11.0)\n",
      "Requirement already satisfied: httpx>=0.25.2 in /opt/conda/lib/python3.12/site-packages (from langgraph-sdk<0.3.0,>=0.2.2->langgraph) (0.28.1)\n",
      "Requirement already satisfied: orjson>=3.10.1 in /opt/conda/lib/python3.12/site-packages (from langgraph-sdk<0.3.0,>=0.2.2->langgraph) (3.11.4)\n",
      "Requirement already satisfied: anyio<5,>=3.5.0 in /opt/conda/lib/python3.12/site-packages (from openai<3.0.0,>=1.109.1->langchain-openai) (4.8.0)\n",
      "Requirement already satisfied: distro<2,>=1.7.0 in /opt/conda/lib/python3.12/site-packages (from openai<3.0.0,>=1.109.1->langchain-openai) (1.9.0)\n",
      "Requirement already satisfied: jiter<1,>=0.10.0 in /opt/conda/lib/python3.12/site-packages (from openai<3.0.0,>=1.109.1->langchain-openai) (0.11.1)\n",
      "Requirement already satisfied: sniffio in /opt/conda/lib/python3.12/site-packages (from openai<3.0.0,>=1.109.1->langchain-openai) (1.3.1)\n",
      "Requirement already satisfied: tqdm>4 in /opt/conda/lib/python3.12/site-packages (from openai<3.0.0,>=1.109.1->langchain-openai) (4.67.1)\n",
      "Requirement already satisfied: annotated-types>=0.6.0 in /opt/conda/lib/python3.12/site-packages (from pydantic>=2.7.4->langgraph) (0.7.0)\n",
      "Requirement already satisfied: pydantic-core==2.27.2 in /opt/conda/lib/python3.12/site-packages (from pydantic>=2.7.4->langgraph) (2.27.2)\n",
      "Requirement already satisfied: regex>=2022.1.18 in /opt/conda/lib/python3.12/site-packages (from tiktoken<1.0.0,>=0.7.0->langchain-openai) (2025.10.23)\n",
      "Requirement already satisfied: requests>=2.26.0 in /opt/conda/lib/python3.12/site-packages (from tiktoken<1.0.0,>=0.7.0->langchain-openai) (2.32.5)\n",
      "Requirement already satisfied: idna>=2.8 in /opt/conda/lib/python3.12/site-packages (from anyio<5,>=3.5.0->openai<3.0.0,>=1.109.1->langchain-openai) (3.10)\n",
      "Requirement already satisfied: certifi in /opt/conda/lib/python3.12/site-packages (from httpx>=0.25.2->langgraph-sdk<0.3.0,>=0.2.2->langgraph) (2024.12.14)\n",
      "Requirement already satisfied: httpcore==1.* in /opt/conda/lib/python3.12/site-packages (from httpx>=0.25.2->langgraph-sdk<0.3.0,>=0.2.2->langgraph) (1.0.7)\n",
      "Requirement already satisfied: h11<0.15,>=0.13 in /opt/conda/lib/python3.12/site-packages (from httpcore==1.*->httpx>=0.25.2->langgraph-sdk<0.3.0,>=0.2.2->langgraph) (0.14.0)\n",
      "Requirement already satisfied: jsonpointer>=1.9 in /opt/conda/lib/python3.12/site-packages (from jsonpatch<2.0.0,>=1.33.0->langchain-core>=0.1->langgraph) (3.0.0)\n",
      "Requirement already satisfied: requests-toolbelt<2.0.0,>=1.0.0 in /opt/conda/lib/python3.12/site-packages (from langsmith<1.0.0,>=0.3.45->langchain-core>=0.1->langgraph) (1.0.0)\n",
      "Requirement already satisfied: zstandard<0.24.0,>=0.23.0 in /opt/conda/lib/python3.12/site-packages (from langsmith<1.0.0,>=0.3.45->langchain-core>=0.1->langgraph) (0.23.0)\n",
      "Requirement already satisfied: charset_normalizer<4,>=2 in /opt/conda/lib/python3.12/site-packages (from requests>=2.26.0->tiktoken<1.0.0,>=0.7.0->langchain-openai) (3.4.1)\n",
      "Requirement already satisfied: urllib3<3,>=1.21.1 in /opt/conda/lib/python3.12/site-packages (from requests>=2.26.0->tiktoken<1.0.0,>=0.7.0->langchain-openai) (2.5.0)\n",
      "Downloading langchain_openai-1.0.1-py3-none-any.whl (81 kB)\n",
      "Using cached langchain_core-1.0.1-py3-none-any.whl (467 kB)\n",
      "Downloading openai-2.6.1-py3-none-any.whl (1.0 MB)\n",
      "\u001b[2K   \u001b[90m━━━━━━━━━━━━━━━━━━━━━━━━━━━━━━━━━━━━━━━━\u001b[0m \u001b[32m1.0/1.0 MB\u001b[0m \u001b[31m56.4 MB/s\u001b[0m eta \u001b[36m0:00:00\u001b[0m\n",
      "Installing collected packages: openai, langchain-core, langchain-openai\n",
      "  Attempting uninstall: openai\n",
      "    Found existing installation: openai 1.68.2\n",
      "    Uninstalling openai-1.68.2:\n",
      "      Successfully uninstalled openai-1.68.2\n",
      "  Attempting uninstall: langchain-core\n",
      "    Found existing installation: langchain-core 0.3.79\n",
      "    Uninstalling langchain-core-0.3.79:\n",
      "      Successfully uninstalled langchain-core-0.3.79\n",
      "  Attempting uninstall: langchain-openai\n",
      "    Found existing installation: langchain-openai 0.3.10\n",
      "    Uninstalling langchain-openai-0.3.10:\n",
      "      Successfully uninstalled langchain-openai-0.3.10\n",
      "\u001b[31mERROR: pip's dependency resolver does not currently take into account all the packages that are installed. This behaviour is the source of the following dependency conflicts.\n",
      "langchain-community 0.3.24 requires langchain-core<1.0.0,>=0.3.59, but you have langchain-core 1.0.1 which is incompatible.\n",
      "langchain 0.3.27 requires langchain-core<1.0.0,>=0.3.72, but you have langchain-core 1.0.1 which is incompatible.\n",
      "langchain-ibm 0.3.10 requires langchain-core<0.4.0,>=0.3.39, but you have langchain-core 1.0.1 which is incompatible.\u001b[0m\u001b[31m\n",
      "\u001b[0mSuccessfully installed langchain-core-1.0.1 langchain-openai-1.0.1 openai-2.6.1\n"
     ]
    }
   ],
   "source": [
    "!pip install -U langgraph langchain-openai"
   ]
  },
  {
   "cell_type": "code",
   "execution_count": 2,
   "metadata": {},
   "outputs": [],
   "source": [
    "%%capture\n",
    "!pip install langgraph==0.3.34 langchain-openai==0.3.14 langchainhub==0.1.21 langchain==0.3.24 pygraphviz==1.14 langchain-community==0.3.23"
   ]
  },
  {
   "cell_type": "markdown",
   "metadata": {},
   "source": [
    "### Understanding Tools in ReAct\n",
    "\n",
    "Tools are the \"acting\" part of ReAct. They give the agent capabilities beyond just generating text. Let's build two essential tools:\n",
    "\n",
    "#### 1. Web Search Tool\n",
    "### Tavily Search API Key Setup\n",
    "\n",
    "We'll use Tavily search as our external research tool. You can get an API key at https://app.tavily.com/sign-in   \n",
    "\n",
    "\n",
    "**Disclaimer:** Signing up for Tavily provides you with free credits, more than enough for this project's needs. If you require additional credits for further use, please add them at your own discretion.\n",
    "\n",
    "![image.png](https://cf-courses-data.s3.us.cloud-object-storage.appdomain.cloud/UjJx1-0vss4_3lwsUF8n0w/image.png)\n",
    "\n",
    "You need to copy the key from Tavily's API website and paste the key on the line ```os.environ[\"TAVILY_API_KEY\"] = \"YOUR_KEY_HERE\"```\n"
   ]
  },
  {
   "cell_type": "code",
   "execution_count": 5,
   "metadata": {},
   "outputs": [],
   "source": [
    "import warnings \n",
    "warnings.filterwarnings('ignore')\n",
    "\n",
    "from langchain_community.tools.tavily_search import TavilySearchResults\n",
    "from langchain.tools import tool\n",
    "import os\n",
    "import json\n",
    "\n",
    "os.environ[\"TAVILY_API_KEY\"] = \"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\"\n",
    "\n",
    "# Initialize the Tavily search tool\n",
    "search = TavilySearchResults()\n",
    "\n",
    "@tool\n",
    "def search_tool(query: str):\n",
    "    \"\"\"\n",
    "    Search the web for information using Tavily API.\n",
    "\n",
    "    :param query: The search query string\n",
    "    :return: Search results related to the query\n",
    "    \"\"\"\n",
    "    return search.invoke(query)"
   ]
  },
  {
   "cell_type": "markdown",
   "metadata": {},
   "source": [
    "### Theory behind Web Search Tools:\n",
    "- Enable real-time information retrieval\n",
    "- Overcome the knowledge cutoff limitation of language models\n",
    "- Return structured data that the agent can process and reason about\n",
    "\n",
    "### Testing the Search Tool\n"
   ]
  },
  {
   "cell_type": "code",
   "execution_count": 6,
   "metadata": {},
   "outputs": [
    {
     "data": {
      "text/plain": [
       "[{'title': 'Tokyo weather in October 2025 - Weather25.com',\n",
       "  'url': 'https://www.weather25.com/asia/japan/tokyo?page=month&month=October',\n",
       "  'content': '| 26 Cloudy 21° /15° | 27 Patchy rain possible 20° /16° | 28 Patchy rain possible 18° /15° | 29 Partly cloudy 15° /14° | 30 Sunny 19° /12° | 31 Moderate rain 18° /14° |  | [...] weather25.com\\nSearch\\nweather in Japan\\nRemove from your favorite locations\\nAdd to my locations\\nShare\\nweather in Japan\\n\\n# Tokyo weather in October 2025\\n\\nPatchy rain possible\\nPartly cloudy\\nSunny\\nModerate rain\\nPatchy rain possible\\nCloudy\\nPartly cloudy\\nOvercast\\nPatchy rain possible\\nPatchy rain possible\\nPatchy rain possible\\nLight rain\\nPartly cloudy\\nPatchy rain possible\\n\\n## The average weather in Tokyo in October [...] | 12 Overcast 23° /20° | 13 Partly cloudy 23° /19° | 14 Overcast 22° /18° | 15 Light drizzle 23° /17° | 16 Light drizzle 22° /17° | 17 Patchy rain possible 22° /18° | 18 Patchy rain possible 21° /16° |\\n| 19 Heavy rain 21° /16° | 20 Partly cloudy 22° /16° | 21 Cloudy 19° /15° | 22 Cloudy 19° /15° | 23 Partly cloudy 22° /16° | 24 Light rain shower 20° /15° | 25 Heavy rain 19° /15° |',\n",
       "  'score': 0.89849097},\n",
       " {'title': 'Japan Weather in October 2025: Cool Autumn Climate - Agate Travel',\n",
       "  'url': 'https://www.agatetravel.com/japan/weather-in-october.html',\n",
       "  'content': '| Okinawa | 28°C / 82°F | 23°C / 73.4°F | 06:29 / 18:01 | 71 |\\n| Osaka | 23°C / 73.4°F | 16°C / 60.8°F | 06:04 / 17:24 | 59 |\\n| Sapporo | 16°C / 60.8°F | 7°C / 44.6°F | 05:48 / 16:52 | 66 |\\n| Sendai | 19°C / 66.2°F | 12°C / 53.6°F | 05:46 / 16:59 | 72 |\\n| Takayama | 19°C / 66.2℉ | 9°C / 48.2℉ | 06:00 / 17:18 | 75 |\\n| Tokyo | 21°C / 69.8°F | 17°C / 62.6°F | 05:49 / 17:05 | 65 |\\n| Yokohama | 22°C  / 72°F | 16°C / 60.8°F | 06:23 / 17:43 | 71 |\\n| [...] | Hiroshima | 23°C / 73.4°F | 15°C / 59°F | 06:16 / 17:37 | 64 |\\n| Kagoshima | 26°C / 78.8°F | 18°C / 64.4°F | 06:21 / 17:46 | 66 |\\n| Kamakura | 21°C / 69.8°F | 15°C / 59°F | 05:36 / 17:26 | 65 |\\n|\\n| Kanazawa | 22°C / 71.6°F | 14°C / 57.2°F | 06:01 / 17:18 | 67 |\\n| Kobe | 23°C / 73.4°F | 14°C / 57.2°F | 05:53 / 17:43 | 66 |\\n|\\n| Kochi | 24°C / 75.2°F | 16°C / 60.8°F | 06:11 / 17:32 | 64 |\\n| Kyoto | 23°C / 73.4°F | 14°C / 57.2°F | 06:03 / 17:22 | 67 | [...] | Lake Kawaguchi | 17°C / 62.6℉ | 6°C / 42.8℉ | 05:53 / 17:10 | 84 |\\n| Mount Fuji | 18°C / 64.4℉ | 9°C / 48.2℉ | 05:50 / 17:11 | 81 |\\n| Nagasaki | 25°C / 77℉ | 18°C / 64℉ | 06:23 / 17:48 | 69 |\\n| Nagoya | 23°C / 73.4°F | 15°C / 59°F | 05:58 / 17:18 | 68 |\\n| Nara | 23°C / 73.4°F | 14°C / 57.2°F | 06:02 / 17:21 | 67 |\\n| Niigata | 20°C / 68°F | 14°C / 57.2°F | 05:52 / 17:06 | 69 |\\n| Nikko | 16°C / 60.8°F | 7°C / 44.6°F | 05:36 / 17:25 | 79 |',\n",
       "  'score': 0.7443038},\n",
       " {'title': 'Tokyo, Tokyo, Japan Weather Forecast - AccuWeather',\n",
       "  'url': 'https://www.accuweather.com/en/jp/tokyo/226396/weather-forecast/226396',\n",
       "  'content': \"# Tokyo, Tokyo\\n\\n## Around the Globe\\n\\nAround the Globe\\n\\n### Hurricane Tracker\\n\\n### Severe Weather\\n\\n### Radar & Maps\\n\\n### News & Features\\n\\n### Astronomy\\n\\n### Business\\n\\n### Climate\\n\\n### Health\\n\\n### Recreation\\n\\n### Sports\\n\\n### Travel\\n\\n### Warnings\\n\\n### Data Suite\\n\\n### Forensics\\n\\n### Advertising\\n\\n### Superior Accuracy™\\n\\n### Video\\n\\n## Today\\n\\n## Today's Weather\\n\\nTue, Oct 28\\n\\nNice with times of sun and clouds\\nHi: 70°\\n\\nTonight: Mostly cloudy\\nLo: 55°\\n\\n## Current Weather\\n\\n4:53 AM\\n\\n## Looking Ahead [...] Expect showery weather Friday afternoon through late Friday night\\n\\n## Tokyo Weather Radar\\n\\nTokyo Weather Radar\\n\\n## Hourly Weather\\n\\nrain drop\\n\\nrain drop\\n\\nrain drop\\n\\nrain drop\\n\\nrain drop\\n\\nrain drop\\n\\nrain drop\\n\\nrain drop\\n\\nrain drop\\n\\nrain drop\\n\\nrain drop\\n\\nrain drop\\n\\n## 10-Day Weather Forecast\\n\\nToday\\n\\n10/28\\n\\nNice with clouds and sun\\n\\nNight: Mostly cloudy\\n\\nWed\\n\\n10/29\\n\\nCooler with clouds and sun\\n\\nPartly cloudy\\n\\nThu\\n\\n10/30\\n\\nBrilliant sunshine\\n\\nIncreasing clouds\\n\\nFri\\n\\n10/31\\n\\nA few afternoon showers [...] Windy with heavy showers\\n\\nSat\\n\\n11/1\\n\\nA couple of afternoon showers\\n\\nClear to partly cloudy\\n\\nSun\\n\\n11/2\\n\\nSunshine and delightful\\n\\nClear to partly cloudy\\n\\nMon\\n\\n11/3\\n\\nPlenty of sunshine\\n\\nClear\\n\\nTue\\n\\n11/4\\n\\nMostly sunny\\n\\nPartly cloudy\\n\\nWed\\n\\n11/5\\n\\nCloudy\\n\\nClouds and a few showers\\n\\nThu\\n\\n11/6\\n\\nCloudy\\n\\nPartly cloudy\\n\\n## Sun & Moon\\n\\n## Air Quality\\n\\nThe air quality is generally acceptable for most individuals. However, sensitive groups may experience minor to moderate symptoms from long-term exposure.\",\n",
       "  'score': 0.694241},\n",
       " {'title': 'Tokyo, Tokyo, Japan Monthly Weather - AccuWeather',\n",
       "  'url': 'https://www.accuweather.com/en/jp/tokyo/226396/october-weather/226396',\n",
       "  'content': '# Tokyo, Tokyo\\n\\nTokyo\\n\\nTokyo\\n\\n## Around the Globe\\n\\nAround the Globe\\n\\n### Hurricane Tracker\\n\\n### Severe Weather\\n\\n### Radar & Maps\\n\\n### News & Features\\n\\n### Astronomy\\n\\n### Business\\n\\n### Climate\\n\\n### Health\\n\\n### Recreation\\n\\n### Sports\\n\\n### Travel\\n\\n### Warnings\\n\\n### Data Suite\\n\\n### Forensics\\n\\n### Advertising\\n\\n### Superior Accuracy™\\n\\n### Video\\n\\n## Monthly\\n\\n## October\\n\\n## 2025\\n\\n## Daily\\n\\n## Temperature Graph\\n\\n## Further Ahead\\n\\nFurther Ahead\\n\\n### November 2025\\n\\n### December 2025\\n\\n### January 2026 [...] East Coast to face rough surf, wet weather to end October\\n\\n16 minutes ago\\n\\nHurricane\\n\\nJamaica has rich hurricane history, but has avoided most powerful stor...\\n\\n6 hours ago\\n\\nFeatured Stories\\n\\nTravel\\n\\nAir traffic control staffing problems spiked over the weekend\\n\\n8 hours ago\\n\\nWeather News\\n\\nBible found opened to Psalm 106 and 107 one of few objects to survive ...\\n\\n8 hours ago\\n\\nHurricane\\n\\nThe historic hurricane that unleashed a blizzard\\n\\n8 hours ago\\n\\nWeather News [...] ## Around the Globe\\n\\nAround the Globe\\n\\n### Hurricane Tracker\\n\\n### Severe Weather\\n\\n### Radar & Maps\\n\\n### News\\n\\n### Video\\n\\nTop Stories\\n\\nHurricane\\n\\nCategory 5 Melissa to unleash life-threatening catastrophe in Jamaica\\n\\n17 minutes ago\\n\\nWeather Forecasts\\n\\nWeather troubles brewing for some trick-or-treaters through Halloween\\n\\n1 hour ago\\n\\nHurricane\\n\\nHurricane Melissa to blast Cuba, Bahamas before turning toward Bermuda\\n\\n17 minutes ago\\n\\nWeather Forecasts',\n",
       "  'score': 0.5758033},\n",
       " {'title': '10 Day Weather Minato-ku, Tokyo Prefecture, Japan',\n",
       "  'url': 'https://weather.com/weather/tenday/l/Minato+ku+Tokyo+Prefecture+107+0052+Japan?canonicalCityId=89a9a327ec5fd290c4d12f51a20485cb',\n",
       "  'content': \"## Recents\\n\\n## Weather Forecasts\\n\\n## Radar & Maps\\n\\n## News & Media\\n\\n## Products & Account\\n\\n## Lifestyle\\n\\n### Specialty Forecasts\\n\\n#### breakingNews\\n\\n# 10 Day Weather- Minato-ku, Tokyo Prefecture, Japan\\n\\n## Today\\n\\n## Day\\n\\nSun and clouds mixed. High 67F. Winds N at 5 to 10 mph.\\n\\nundefined\\n\\nHeads-up\\n\\nCategory 5 Melissa Closing In On Jamaica\\n\\n## Night\\n\\nPartly cloudy skies this evening will become overcast overnight. Low 53F. Winds NNW at 5 to 10 mph.\\n\\n## Wed 29\\n\\n## Day [...] We recognize our responsibility to use data and technology for good. We may use or share your data with our data vendors. Take control of your data.\\n\\nThe Weather Channel is the world's most accurate forecaster according to ForecastWatch, Global and Regional Weather Forecast Accuracy Overview, 2021-2024, commissioned by The Weather Company.\\n\\nWeather Channel\\n\\n© The Weather Company, LLC 2025 [...] Mostly cloudy. High near 60F. Winds NE at 5 to 10 mph.\\n\\n## Night\\n\\nPartly to mostly cloudy. Low 49F. Winds N at 5 to 10 mph.\\n\\n## Thu 30\\n\\n## Day\\n\\nSunny, along with a few afternoon clouds. High 66F. Winds N at 5 to 10 mph.\\n\\n## Night\\n\\nCloudy skies. Low 54F. Winds NNW at 5 to 10 mph.\\n\\n## Fri 31\\n\\n## Day\\n\\nCloudy with occasional rain in the afternoon. High 62F. Winds N at 5 to 10 mph. Chance of rain 100%. Rainfall around a quarter of an inch.\\n\\n## Night\",\n",
       "  'score': 0.33222425}]"
      ]
     },
     "execution_count": 6,
     "metadata": {},
     "output_type": "execute_result"
    }
   ],
   "source": [
    "search_tool.invoke(\"What's the weather like in Tokyo today?\")\n"
   ]
  },
  {
   "cell_type": "markdown",
   "metadata": {},
   "source": [
    "This test demonstrates how the agent can access current information that wasn't available during training.\n",
    "\n",
    "#### 2. Clothing Recommendation Tool\n"
   ]
  },
  {
   "cell_type": "code",
   "execution_count": 7,
   "metadata": {},
   "outputs": [],
   "source": [
    "@tool\n",
    "def recommend_clothing(weather: str) -> str:\n",
    "    \"\"\"\n",
    "    Returns a clothing recommendation based on the provided weather description.\n",
    "\n",
    "    This function examines the input string for specific keywords or temperature indicators \n",
    "    (e.g., \"snow\", \"freezing\", \"rain\", \"85°F\") to suggest appropriate attire. It handles \n",
    "    common weather conditions like snow, rain, heat, and cold by providing simple and practical \n",
    "    clothing advice.\n",
    "\n",
    "    :param weather: A brief description of the weather (e.g., \"Overcast, 64.9°F\")\n",
    "    :return: A string with clothing recommendations suitable for the weather\n",
    "    \"\"\"\n",
    "    weather = weather.lower()\n",
    "    if \"snow\" in weather or \"freezing\" in weather:\n",
    "        return \"Wear a heavy coat, gloves, and boots.\"\n",
    "    elif \"rain\" in weather or \"wet\" in weather:\n",
    "        return \"Bring a raincoat and waterproof shoes.\"\n",
    "    elif \"hot\" in weather or \"85\" in weather:\n",
    "        return \"T-shirt, shorts, and sunscreen recommended.\"\n",
    "    elif \"cold\" in weather or \"50\" in weather:\n",
    "        return \"Wear a warm jacket or sweater.\"\n",
    "    else:\n",
    "        return \"A light jacket should be fine.\""
   ]
  },
  {
   "cell_type": "markdown",
   "metadata": {},
   "source": [
    "**Why this Tool Matters:**\n",
    "- Demonstrates domain-specific reasoning\n",
    "- Shows how tools can process and interpret data from other tools\n",
    "- Illustrates the composability of ReAct systems\n",
    "\n",
    "#### Creating the Tool Registry\n"
   ]
  },
  {
   "cell_type": "code",
   "execution_count": 8,
   "metadata": {},
   "outputs": [],
   "source": [
    "tools=[search_tool,recommend_clothing]\n",
    "\n",
    "tools_by_name={ tool.name:tool for tool in tools}"
   ]
  },
  {
   "cell_type": "markdown",
   "metadata": {},
   "source": [
    "This registry allows the agent to dynamically select and invoke the appropriate tool based on the task at hand.\n",
    "\n",
    "## Setting Up the Language Model\n",
    "\n",
    "### Initializing the AI Model\n"
   ]
  },
  {
   "cell_type": "code",
   "execution_count": 9,
   "metadata": {},
   "outputs": [],
   "source": [
    "from langchain_openai import ChatOpenAI\n",
    "from langchain_core.tools import tool\n",
    "\n",
    "model = ChatOpenAI(model=\"gpt-4o-mini\")"
   ]
  },
  {
   "cell_type": "markdown",
   "metadata": {},
   "source": [
    "We're using GPT-4o-mini as our reasoning engine. This model will:\n",
    "- Analyze user queries\n",
    "- Decide which tools to use\n",
    "- Process tool results\n",
    "- Generate final responses\n",
    "\n",
    "### Creating the System Prompt\n"
   ]
  },
  {
   "cell_type": "code",
   "execution_count": 10,
   "metadata": {},
   "outputs": [],
   "source": [
    "from langchain_core.prompts import ChatPromptTemplate, MessagesPlaceholder\n",
    "from langchain_core.messages import BaseMessage, HumanMessage, AIMessage, ToolMessage,SystemMessage\n",
    "\n",
    "chat_prompt = ChatPromptTemplate.from_messages([\n",
    "    (\"system\", \"\"\"\n",
    "You are a helpful AI assistant that thinks step-by-step and uses tools when needed.\n",
    "\n",
    "When responding to queries:\n",
    "1. First, think about what information you need\n",
    "2. Use available tools if you need current data or specific capabilities  \n",
    "3. Provide clear, helpful responses based on your reasoning and any tool results\n",
    "\n",
    "Always explain your thinking process to help users understand your approach.\n",
    "\"\"\"),\n",
    "    MessagesPlaceholder(variable_name=\"scratch_pad\")\n",
    "])"
   ]
  },
  {
   "cell_type": "markdown",
   "metadata": {},
   "source": [
    "**The System Prompt's Role:**\n",
    "- Defines the agent's behavior and personality\n",
    "- Establishes the reasoning pattern (think → act → observe)\n",
    "- Encourages transparency in the decision-making process\n",
    "\n",
    "### Binding Tools to the Model\n"
   ]
  },
  {
   "cell_type": "code",
   "execution_count": 11,
   "metadata": {},
   "outputs": [],
   "source": [
    "model_react=chat_prompt|model.bind_tools(tools)"
   ]
  },
  {
   "cell_type": "markdown",
   "metadata": {},
   "source": [
    "This creates a model that can:\n",
    "- Understand when to use tools\n",
    "- Generate properly formatted tool calls\n",
    "- Process tool results in context\n",
    "\n",
    "## Understanding Agent State\n",
    "\n",
    "### What is Agent State?\n",
    "\n",
    "In ReAct, state management is crucial, as the agent must maintain context across multiple reasoning and acting steps.\n"
   ]
  },
  {
   "cell_type": "code",
   "execution_count": 12,
   "metadata": {},
   "outputs": [],
   "source": [
    "from typing import (Annotated,Sequence,TypedDict)\n",
    "from langchain_core.messages import BaseMessage\n",
    "from langgraph.graph.message import add_messages\n",
    "\n",
    "class AgentState(TypedDict):\n",
    "    \"\"\"The state of the agent.\"\"\"\n",
    "\n",
    "    # add_messages is a reducer\n",
    "    # See https://langchain-ai.github.io/langgraph/concepts/low_level/#reducers\n",
    "    messages: Annotated[Sequence[BaseMessage], add_messages]"
   ]
  },
  {
   "cell_type": "markdown",
   "metadata": {},
   "source": [
    "**Key Concepts:**\n",
    "- **State**: Contains the conversation history and context.\n",
    "- **Reducer**: `add_messages` automatically handles adding new messages to the conversation.\n",
    "- **Type Safety**: TypedDict ensures our state structure is well-defined.\n",
    "\n",
    "### Demonstrating State Management\n"
   ]
  },
  {
   "cell_type": "code",
   "execution_count": 13,
   "metadata": {},
   "outputs": [
    {
     "name": "stdout",
     "output_type": "stream",
     "text": [
      "After greeting: [HumanMessage(content='Hi', additional_kwargs={}, response_metadata={}, id='a1d33e2d-5fa2-4ca4-9268-ca3ec99f9d0a')]\n",
      "After question: {'messages': [HumanMessage(content='Hi', additional_kwargs={}, response_metadata={}, id='a1d33e2d-5fa2-4ca4-9268-ca3ec99f9d0a'), HumanMessage(content='Weather in NYC?', additional_kwargs={}, response_metadata={}, id='4ba4d954-edf9-42af-9723-35e3c55145ea')]}\n"
     ]
    }
   ],
   "source": [
    "# Example conversation flow:\n",
    "state: AgentState = {\"messages\": []}\n",
    "\n",
    "# append a message using the reducer properly\n",
    "state[\"messages\"] = add_messages(state[\"messages\"], [HumanMessage(content=\"Hi\")])\n",
    "print(\"After greeting:\", state[\"messages\"])\n",
    "\n",
    "# add another message (e.g. a question)\n",
    "state[\"messages\"] = add_messages(state[\"messages\"], [HumanMessage(content=\"Weather in NYC?\")])\n",
    "print(\"After question:\", state)"
   ]
  },
  {
   "cell_type": "markdown",
   "metadata": {},
   "source": [
    "This demonstrates how the state accumulates context over the conversation.\n"
   ]
  },
  {
   "cell_type": "markdown",
   "metadata": {},
   "source": [
    "## Manual ReAct Execution (Understanding the Flow)\n",
    "\n",
    "Before building the automated graph, let's manually step through a ReAct cycle to understand what happens:\n",
    "\n",
    "### Step 1: Initial Query Processing\n"
   ]
  },
  {
   "cell_type": "code",
   "execution_count": 14,
   "metadata": {},
   "outputs": [],
   "source": [
    "dummy_state: AgentState = {\n",
    "    \"messages\": [HumanMessage( \"What's the weather like in Zurich, and what should I wear based on the temperature?\")]}\n",
    "\n",
    "response = model_react.invoke({\"scratch_pad\":dummy_state[\"messages\"]})\n",
    "\n",
    "dummy_state[\"messages\"]=add_messages(dummy_state[\"messages\"],[response])"
   ]
  },
  {
   "cell_type": "markdown",
   "metadata": {},
   "source": [
    "**What Happens Here:**\n",
    "1. The user asks a complex question requiring current data.\n",
    "2. The model analyzes the query and realizes it needs to search for weather information.\n",
    "3. The model generates a tool call for the search.\n"
   ]
  },
  {
   "cell_type": "markdown",
   "metadata": {},
   "source": [
    "### Step 2: Tool Execution\n"
   ]
  },
  {
   "cell_type": "code",
   "execution_count": 15,
   "metadata": {},
   "outputs": [
    {
     "name": "stdout",
     "output_type": "stream",
     "text": [
      "Tool call: {'name': 'search_tool', 'args': {'query': 'current weather Zurich'}, 'id': 'call_SX1Z1BQKlLTOrdw8MuUOpkYR', 'type': 'tool_call'}\n",
      "Tool result preview: Weather for Zürich, Zurich, Switzerland - Time and Date\n"
     ]
    }
   ],
   "source": [
    "tool_call = response.tool_calls[-1]\n",
    "print(\"Tool call:\", tool_call)\n",
    "\n",
    "tool_result = tools_by_name[tool_call[\"name\"]].invoke(tool_call[\"args\"])\n",
    "print(\"Tool result preview:\", tool_result[0]['title'])\n",
    "\n",
    "tool_message = ToolMessage(\n",
    "    content=json.dumps(tool_result),\n",
    "    name=tool_call[\"name\"],\n",
    "    tool_call_id=tool_call[\"id\"]\n",
    ")\n",
    "dummy_state[\"messages\"] = add_messages(dummy_state[\"messages\"], [tool_message])"
   ]
  },
  {
   "cell_type": "markdown",
   "metadata": {},
   "source": [
    "**What Happens Here:**\n",
    "1. Extract the tool call from the model's response.\n",
    "2. Execute the tool using the specified arguments.\n",
    "3. Create a ToolMessage containing the results.\n",
    "4. Add the tool result to the conversation state.\n"
   ]
  },
  {
   "cell_type": "markdown",
   "metadata": {},
   "source": [
    "### Step 3: Processing Results and Next Action\n"
   ]
  },
  {
   "cell_type": "code",
   "execution_count": 16,
   "metadata": {},
   "outputs": [],
   "source": [
    "response = model_react.invoke({\"scratch_pad\": dummy_state[\"messages\"]})\n",
    "dummy_state['messages'] = add_messages(dummy_state['messages'], [response])\n",
    "\n",
    "# check if the model wants to use another tool\n",
    "if response.tool_calls:\n",
    "    tool_call = response.tool_calls[0]\n",
    "    tool_result = tools_by_name[tool_call[\"name\"]].invoke(tool_call[\"args\"])\n",
    "    tool_message = ToolMessage(\n",
    "        content=json.dumps(tool_result),\n",
    "        name=tool_call[\"name\"],\n",
    "        tool_call_id=tool_call[\"id\"]\n",
    "    )\n",
    "    dummy_state['messages'] = add_messages(dummy_state['messages'], [tool_message])"
   ]
  },
  {
   "cell_type": "markdown",
   "metadata": {},
   "source": [
    "**What Happens Here:**\n",
    "1. The model processes the search results.\n",
    "2. It realizes it needs to use the clothing recommendation tool.\n",
    "3. It extracts weather information and calls the clothing tool.\n",
    "4. It receives clothing recommendations based on the weather data.\n"
   ]
  },
  {
   "cell_type": "markdown",
   "metadata": {},
   "source": [
    "### Step 4: Final Response Generation\n"
   ]
  },
  {
   "cell_type": "code",
   "execution_count": 17,
   "metadata": {},
   "outputs": [
    {
     "name": "stdout",
     "output_type": "stream",
     "text": [
      "Final response generated: True\n",
      "More tools needed: False\n"
     ]
    }
   ],
   "source": [
    "response = model_react.invoke({\"scratch_pad\": dummy_state[\"messages\"]})\n",
    "print(\"Final response generated:\", response.content is not None)\n",
    "print(\"More tools needed:\", bool(response.tool_calls))"
   ]
  },
  {
   "cell_type": "markdown",
   "metadata": {},
   "source": [
    "**What Happens Here:**\n",
    "1. The model has all necessary information.\n",
    "2. It synthesizes weather data and clothing recommendations.\n",
    "3. It generates a comprehensive response to the user.\n",
    "4. No more tool calls needed—the reasoning cycle is complete.\n"
   ]
  },
  {
   "cell_type": "markdown",
   "metadata": {},
   "source": [
    "## Automating ReAct with Graphs\n",
    "\n",
    "### Why Use Graphs?\n",
    "\n",
    "Manual ReAct execution is educational but impractical for real applications. LangGraph automates this process with a state machine that handles the reasoning loop automatically.\n",
    "\n",
    "### Building the Core Functions\n",
    "\n",
    "#### Tool Execution Node\n"
   ]
  },
  {
   "cell_type": "code",
   "execution_count": 18,
   "metadata": {},
   "outputs": [],
   "source": [
    "def tool_node(state: AgentState):\n",
    "    \"\"\"Execute all tool calls from the last message in the state.\"\"\"\n",
    "    outputs = []\n",
    "    for tool_call in state[\"messages\"][-1].tool_calls:\n",
    "        tool_result = tools_by_name[tool_call[\"name\"]].invoke(tool_call[\"args\"])\n",
    "        outputs.append(\n",
    "            ToolMessage(\n",
    "                content=json.dumps(tool_result),\n",
    "                name=tool_call[\"name\"],\n",
    "                tool_call_id=tool_call[\"id\"],\n",
    "            )\n",
    "        )\n",
    "    return {\"messages\": outputs}"
   ]
  },
  {
   "cell_type": "markdown",
   "metadata": {},
   "source": [
    "**Function Purpose:**\n",
    "- Automatically execute all tool calls from the model\n",
    "- Handle multiple simultaneous tool calls\n",
    "- Return properly formatted tool messages\n"
   ]
  },
  {
   "cell_type": "markdown",
   "metadata": {},
   "source": [
    "#### Model Invocation Node\n"
   ]
  },
  {
   "cell_type": "code",
   "execution_count": 19,
   "metadata": {},
   "outputs": [],
   "source": [
    "def call_model(state: AgentState):\n",
    "    \"\"\"Invoke the model with the current conversation state.\"\"\"\n",
    "    response = model_react.invoke({\"scratch_pad\": state[\"messages\"]})\n",
    "    return {\"messages\": [response]}"
   ]
  },
  {
   "cell_type": "markdown",
   "metadata": {},
   "source": [
    "**Function Purpose:**\n",
    "- Call the ReAct-enabled model\n",
    "- Pass the full conversation context\n",
    "- Return the model's response (which may include tool calls)\n",
    "\n",
    "#### Decision Logic\n"
   ]
  },
  {
   "cell_type": "code",
   "execution_count": 20,
   "metadata": {},
   "outputs": [],
   "source": [
    "def should_continue(state: AgentState):\n",
    "    \"\"\"Determine whether to continue with tool use or end the conversation.\"\"\"\n",
    "    messages = state[\"messages\"]\n",
    "    last_message = messages[-1]\n",
    "    # If there is no function call, then we finish\n",
    "    if not last_message.tool_calls:\n",
    "        return \"end\"\n",
    "    # Otherwise if there is, we continue\n",
    "    else:\n",
    "        return \"continue\""
   ]
  },
  {
   "cell_type": "markdown",
   "metadata": {},
   "source": [
    "**Function Purpose:**\n",
    "- Implement the control flow logic\n",
    "- Decide whether the agent needs to use more tools\n",
    "- Route the conversation to either tool execution or completion\n",
    "\n",
    "### Constructing the State Graph\n"
   ]
  },
  {
   "cell_type": "code",
   "execution_count": 21,
   "metadata": {},
   "outputs": [],
   "source": [
    "from langgraph.graph import StateGraph, END\n",
    "\n",
    "# Define a new graph\n",
    "workflow = StateGraph(AgentState)\n",
    "\n",
    "# Define the two nodes we will cycle between\n",
    "workflow.add_node(\"agent\", call_model)\n",
    "workflow.add_node(\"tools\", tool_node)\n",
    "\n",
    "# Add edges between nodes\n",
    "workflow.add_edge(\"tools\", \"agent\")  # After tools, always go back to agent\n",
    "\n",
    "# Add conditional logic\n",
    "workflow.add_conditional_edges(\n",
    "    \"agent\",\n",
    "    should_continue,\n",
    "    {\n",
    "        \"continue\": \"tools\",  # If tools needed, go to tools node\n",
    "        \"end\": END,          # If done, end the conversation\n",
    "    },\n",
    ")\n",
    "\n",
    "# Set entry point\n",
    "workflow.set_entry_point(\"agent\")\n",
    "\n",
    "# Compile the graph\n",
    "graph = workflow.compile()"
   ]
  },
  {
   "cell_type": "markdown",
   "metadata": {},
   "source": [
    "**Graph Structure Explained:**\n",
    "1. **Agent Node**: Where reasoning happens and tool calls are generated.\n",
    "2. **Tools Node**: Where tool execution occurs.\n",
    "3. **Conditional Edge**: Determines whether to continue or finish.\n",
    "4. **Entry Point**: Conversation always starts with the agent reasoning.\n",
    "### Visualizing the Graph\n"
   ]
  },
  {
   "cell_type": "code",
   "execution_count": 22,
   "metadata": {},
   "outputs": [
    {
     "data": {
      "image/png": "[encoded data removed]",
      "text/plain": [
       "<IPython.core.display.Image object>"
      ]
     },
     "metadata": {},
     "output_type": "display_data"
    }
   ],
   "source": [
    "from IPython.display import Image, display\n",
    "\n",
    "try:\n",
    "    display(Image(graph.get_graph().draw_mermaid_png()))\n",
    "except Exception:\n",
    "    # This requires some extra dependencies and is optional\n",
    "    pass"
   ]
  },
  {
   "cell_type": "markdown",
   "metadata": {},
   "source": [
    "This visualization shows the flow: Agent → Decision → Tools → Agent → Decision → End\n"
   ]
  },
  {
   "cell_type": "markdown",
   "metadata": {},
   "source": [
    "## Running the Complete ReAct Agent\n",
    "\n",
    "### Final Execution\n"
   ]
  },
  {
   "cell_type": "code",
   "execution_count": 23,
   "metadata": {},
   "outputs": [
    {
     "name": "stdout",
     "output_type": "stream",
     "text": [
      "================================\u001b[1m Human Message \u001b[0m=================================\n",
      "\n",
      "What's the weather like in Zurich, and what should I wear based on the temperature?\n",
      "==================================\u001b[1m Ai Message \u001b[0m==================================\n",
      "Tool Calls:\n",
      "  search_tool (call_W6o58m9tXbUzCtucZawtBlCy)\n",
      " Call ID: call_W6o58m9tXbUzCtucZawtBlCy\n",
      "  Args:\n",
      "    query: current weather in Zurich\n",
      "=================================\u001b[1m Tool Message \u001b[0m=================================\n",
      "Name: search_tool\n",
      "\n",
      "[{\"title\": \"Weather for Z\\u00fcrich, Zurich, Switzerland - Time and Date\", \"url\": \"https://www.timeanddate.com/weather/switzerland/zurich\", \"content\": \"timeanddate.com\\nFlag for Switzerland\\n\\n# Weather in Z\\u00fcrich, Zurich, Switzerland\\n\\nCool.\\n\\nFeels Like: 45 \\u00b0F  \\nForecast: 57 / 41 \\u00b0F  \\nWind: 5 mph \\u2191 from Southwest\\n\\n|  |  |\\n --- |\\n| Location: | Zurich-Kloten |\\n| Current Time: | Oct 27, 2025 at 8:53:50 pm |\\n| Latest Report: | Oct 27, 2025 at 8:00 pm |\\n| Visibility: | N/A |\\n| Pressure: | 29.95 \\\"Hg |\\n| Humidity: | 89% |\\n| Dew Point: | 44 \\u00b0F |\\n\\nLocation of Z\\u00fcrich\\nLocation\\n\\n## Upcoming 5 hours [...] | Amount of Snow | 0.00\\\" | 0.00\\\" | 0.00\\\" | 0.00\\\" | 0.00\\\" | 0.00\\\" | 0.00\\\" |\\n|  |  |  |  |  |  |  |  |\\n ---  ---  ---  --- |\\n| \\\\ Updated Monday, October 27, 2025 2:42:52 pm Z\\u00fcrich time - Weather by CustomWeather, \\u00a9 2025 | | | | | | | | [...] |  |  |  |  |  |  |\\n ---  ---  --- |\\n| Now | 9:00 pm | 10:00 pm | 11:00 pm | 12:00 am | 1:00 am |\\n|  |  |  |  |  |  |\\n| 47 \\u00b0F | 47 \\u00b0F | 46 \\u00b0F | 45 \\u00b0F | 43 \\u00b0F | 42 \\u00b0F |\\n\\nSee more hour-by-hour weather\\n\\n## Forecast for the next 48 hours\", \"score\": 0.9600365}, {\"title\": \"Weather in Z\\u00fcrich in October 2025 - Detailed Forecast\", \"url\": \"https://www.easeweather.com/europe/switzerland/zurich/october\", \"content\": \"easeweather.com\\nSwitzerland weather\\n\\n# Weather in Z\\u00fcrich for October 2025\\n\\n### Official Weather Alert \\u26a0\\ufe0f\\n\\nGale Force Wind Warning - See hour by hour.\\n\\n### Temperatures\\n\\nUntil now, October 2025 in Z\\u00fcrich is cooler than usual, with temperatures averaging 14 \\u00b0C, this is -2.4 \\u00b0C below the typical seasonal average.\\n\\nThe forecast for the next days in Z\\u00fcrich predicts temperatures to be around 13 \\u00b0C, close to the historical average. [...] | 26 Oct. | Patchy rain possible Patchy rain possible | 13\\u00b0 /7\\u00b0 | 7.9 mm | 3 |  |\\n| 27 Oct. | Moderate rain Moderate rain | 9\\u00b0 /5\\u00b0 | 16.9 mm | 0 |  |\\n| 28 Oct. | Patchy rain possible Patchy rain possible | 13\\u00b0 /6\\u00b0 | 0.8 mm | 0.3 |  |\\n| 29 Oct. | Sunny Sunny | 13\\u00b0 /4\\u00b0 | 0 mm | 0.4 |  |\\n| 30 Oct. | Partly cloudy Partly cloudy | 14\\u00b0 /6\\u00b0 | 0 mm | 0.3 |  |\\n| 31 Oct. | Partly cloudy Partly cloudy | 15\\u00b0 /6\\u00b0 | 0.1 mm | 0.4 |  |\\n| Next | | | | | | [...] Sunny\\nMist\\nLight rain shower\\nModerate or heavy rain shower\\nPatchy rain possible\\nPatchy rain possible\\nPatchy rain possible\\nOvercast\\nPatchy rain possible\\nPartly cloudy\\nSunny\\nPatchy rain possible\\nPatchy rain possible\\nSunny\\nPatchy rain possible\\nCloudy\\nPartly cloudy\\nOvercast\\nOvercast\\nPatchy light rain\\nModerate rain at times\\nPatchy rain possible\\nSunny\\nPartly cloudy\\nPartly cloudy\\nPatchy rain possible\\nWeather Alert\\nModerate rain\\nPatchy rain possible\\nSunny\\nPartly cloudy\\nPartly cloudy\", \"score\": 0.8773195}, {\"title\": \"Zurich weather in October 2025 - Weather25.com\", \"url\": \"https://www.weather25.com/europe/switzerland/zurich?page=month&month=October\", \"content\": \"weather25.com\\nSearch\\nweather in Switzerland\\nRemove from your favorite locations\\nAdd to my locations\\nShare\\nweather in Switzerland\\n\\n# Zurich weather in October 2025\\n\\nLight rain\\nPatchy rain possible\\nPartly cloudy\\nPatchy rain possible\\nPartly cloudy\\nPatchy rain possible\\nLight rain\\nPatchy rain possible\\nMist\\nPatchy rain possible\\nCloudy\\nFog\\nMist\\nPartly cloudy\\n\\n## The average weather in Zurich in October [...] | 19 Patchy rain possible 15\\u00b0 /7\\u00b0 | 20 Mist 16\\u00b0 /7\\u00b0 | 21 Light rain 15\\u00b0 /9\\u00b0 | 22 Light rain shower 14\\u00b0 /8\\u00b0 | 23 Mist 15\\u00b0 /6\\u00b0 | 24 Light rain shower 14\\u00b0 /6\\u00b0 | 25 Partly cloudy 15\\u00b0 /7\\u00b0 |\\n| 26 Partly cloudy 13\\u00b0 /7\\u00b0 | 27 Light rain 8\\u00b0 /5\\u00b0 | 28 Patchy rain possible 13\\u00b0 /5\\u00b0 | 29 Partly cloudy 13\\u00b0 /4\\u00b0 | 30 Patchy rain possible 14\\u00b0 /7\\u00b0 | 31 Partly cloudy 16\\u00b0 /6\\u00b0 |  | [...] The temperatures in Zurich in October are quite cold with temperatures between 5\\u00b0C and 15\\u00b0C, warm clothes are a must.\\n\\nYou can expect about 3 to 8 days of rain in Zurich during the month of October. It\\u2019s a good idea to bring along your umbrella so that you don\\u2019t get caught in poor weather.\\n\\nOur weather forecast can give you a great sense of what weather to expect in Zurich in October 2025.\", \"score\": 0.875031}, {\"title\": \"Zurich, Zurich, Switzerland Weather Forecast - AccuWeather\", \"url\": \"https://www.accuweather.com/en/ch/zurich/316622/weather-forecast/316622\", \"content\": \"Tomorrow: Not as cool; cloudy in the morning, then intervals of clouds and sunshine in the afternoon\\nHi: 58\\u00b0\\n\\n## Current Weather\\n\\n8:53 PM\\n\\n### MINUTECAST\\u2122\\n\\nPeriods of rain for at least 60 min\\n\\n## Zurich Weather Radar\\n\\nZurich Weather Radar\\n\\n## Hourly Weather\\n\\nrain drop\\n\\nrain drop\\n\\nrain drop\\n\\nrain drop\\n\\nrain drop\\n\\nrain drop\\n\\nrain drop\\n\\nrain drop\\n\\nrain drop\\n\\nrain drop\\n\\nrain drop\\n\\nrain drop\\n\\n## 10-Day Weather Forecast\\n\\nTonight\\n\\n10/27\\n\\nA brief evening shower or two\\n\\nTue\\n\\n10/28 [...] # Zurich, Zurich\\n\\nZurich\\n\\nZurich\\n\\n## Around the Globe\\n\\nAround the Globe\\n\\n### Hurricane Tracker\\n\\n### Severe Weather\\n\\n### Radar & Maps\\n\\n### News & Features\\n\\n### Astronomy\\n\\n### Business\\n\\n### Climate\\n\\n### Health\\n\\n### Recreation\\n\\n### Sports\\n\\n### Travel\\n\\n### Warnings\\n\\n### Data Suite\\n\\n### Forensics\\n\\n### Advertising\\n\\n### Superior Accuracy\\u2122\\n\\n### Video\\n\\n## Today\\n\\n## Tonight's Weather\\n\\nMon, Oct 27\\n\\nA brief shower or two this evening; otherwise, partly cloudy\\nLo: 44\\u00b0 [...] Not as cool with clearing\\n\\nNight: Partly cloudy\\n\\nWed\\n\\n10/29\\n\\nSun through high clouds\\n\\nCloudy with a few showers\\n\\nThu\\n\\n10/30\\n\\nSunshine and a few clouds\\n\\nAreas of low clouds\\n\\nFri\\n\\n10/31\\n\\nCloudy with a few showers\\n\\nMostly cloudy\\n\\nSat\\n\\n11/1\\n\\nCloudy\\n\\nCloudy\\n\\nSun\\n\\n11/2\\n\\nOccasional afternoon rain\\n\\nEarly rain, then a shower\\n\\nMon\\n\\n11/3\\n\\nA few morning showers\\n\\nBecoming cloudy\\n\\nTue\\n\\n11/4\\n\\nDecreasing clouds\\n\\nClear to partly cloudy\\n\\nWed\\n\\n11/5\\n\\nMostly cloudy\\n\\nCloudy\\n\\n## Sun & Moon\\n\\n## Air Quality\", \"score\": 0.76888984}, {\"title\": \"Z\\u00fcrich, Switzerland Hourly Weather Forecast\", \"url\": \"https://www.wunderground.com/hourly/ch/z%C3%BCrich\", \"content\": \"Cloudy skies early, followed by partial clearing. Not as cold. High 57F. Winds WSW at 10 to 15 mph.\\n\\nicon\\nicon\\nicon\\nicon\\nicon\\nAccess Logo\\n\\nWe recognize our responsibility to use data and technology for good. We may use or share your data with our data vendors. Take control of your data.\\n\\nThe Weather Company Logo\\nThe Weather Channel Logo\\nWeather Underground Logo\\nStorm Radar Logo\\n\\n\\u00a9 The Weather Company, LLC 2025 [...] # Z\\u00fcrich, Z\\u00fcrich, Switzerland Hourly Weather Forecaststar\\\\_ratehome\\n\\nicon\\n\\nThank you for reporting this station. We will review the data in question.\\n\\nYou are about to report this weather station for bad data. Please select the information that is incorrect.\\n\\nSee more\\n\\n(Reset Map)\\n\\nNo PWS\\n\\nReset Map, or Add PWS.\\n\\nicon\\n\\nA few showers this evening with overcast skies overnight. Low near 45F. Winds WSW at 10 to 15 mph. Chance of rain 30%.\\n\\nicon\", \"score\": 0.5920305}]\n",
      "==================================\u001b[1m Ai Message \u001b[0m==================================\n",
      "Tool Calls:\n",
      "  recommend_clothing (call_khvwF1zvO1XavcUmKpMLI5ss)\n",
      " Call ID: call_khvwF1zvO1XavcUmKpMLI5ss\n",
      "  Args:\n",
      "    weather: Cool, feels like 45°F, temperature 57°F\n",
      "=================================\u001b[1m Tool Message \u001b[0m=================================\n",
      "Name: recommend_clothing\n",
      "\n",
      "\"A light jacket should be fine.\"\n",
      "==================================\u001b[1m Ai Message \u001b[0m==================================\n",
      "\n",
      "The current weather in Zurich is cool, with a temperature of 57°F (about 14°C), and it feels like 45°F (around 7°C). It's also cloudy, which might indicate the possibility of rain.\n",
      "\n",
      "Based on this weather, I recommend wearing a light jacket to stay comfortable. Make sure to layer up, as it feels colder, and you might also want to consider a scarf or hat if you're sensitive to the chill.\n"
     ]
    }
   ],
   "source": [
    "def print_stream(stream):\n",
    "    \"\"\"Helper function for formatting the stream nicely.\"\"\"\n",
    "    for s in stream:\n",
    "        message = s[\"messages\"][-1]\n",
    "        if isinstance(message, tuple):\n",
    "            print(message)\n",
    "        else:\n",
    "            message.pretty_print()\n",
    "\n",
    "inputs = {\"messages\": [HumanMessage(content=\"What's the weather like in Zurich, and what should I wear based on the temperature?\")]}\n",
    "\n",
    "print_stream(graph.stream(inputs, stream_mode=\"values\"))"
   ]
  },
  {
   "cell_type": "markdown",
   "metadata": {},
   "source": [
    "**What You'll See:**\n",
    "1. **Initial Reasoning**: Agent analyzes the query.\n",
    "2. **Tool Call 1**: Searches for Zurich weather.\n",
    "3. **Tool Result Processing**: Agent examines weather data.\n",
    "4. **Tool Call 2**: Gets clothing recommendations.\n",
    "5. **Final Synthesis**: Agent combines all information into a helpful response.\n"
   ]
  },
  {
   "cell_type": "markdown",
   "metadata": {},
   "source": [
    "### The Complete ReAct Cycle\n",
    "\n",
    "The final execution demonstrates the full ReAct pattern:\n",
    "\n",
    "1. **Reasoning**: \"I need current weather data for Zurich\".\n",
    "2. **Acting**: Calls search_tool(\"Zurich weather today\").\n",
    "3. **Observing**: Processes search results, extracts temperature.\n",
    "4. **Reasoning**: \"Now I need clothing recommendations for this temperature\".\n",
    "5. **Acting**: Calls recommend_clothing(\"temperature from search\").\n",
    "6. **Observing**: Gets clothing suggestions.\n",
    "7. **Reasoning**: \"I can now provide a complete answer\".\n",
    "8. **Final Response**: Synthesizes weather info and clothing recommendations.\n"
   ]
  },
  {
   "cell_type": "markdown",
   "metadata": {},
   "source": [
    "## Key Takeaways\n"
   ]
  },
  {
   "cell_type": "markdown",
   "metadata": {},
   "source": [
    "### What Makes ReAct Powerful\n",
    "\n",
    "1. **Transparency**: You can see the agent's reasoning process.\n",
    "2. **Adaptability**: The agent can handle unexpected results and change course.\n",
    "3. **Extensibility**: It's easy to add new tools and capabilities.\n",
    "4. **Reliability**: The structured approach reduces hallucination and improves accuracy\n"
   ]
  },
  {
   "cell_type": "markdown",
   "metadata": {},
   "source": [
    "### Best Practices\n",
    "\n",
    "1. **Tool Design**: Make tools focused and reliable.\n",
    "2. **Error Handling**: Plan for tool failures and unexpected results.\n",
    "3. **Context Management**: Keep state manageable and relevant.\n",
    "4. **User Experience**: Provide clear feedback about what the agent is doing.\n",
    "\n",
    "The ReAct framework represents a significant step toward more capable and trustworthy AI agents that can reason through complex problems and take meaningful actions in the real world.\n"
   ]
  },
  {
   "cell_type": "markdown",
   "metadata": {},
   "source": [
    "# Exercises\n",
    "\n",
    "Now it's time to put your ReAct knowledge into practice! These exercises will help you build your own tools and extend the agent's capabilities.\n"
   ]
  },
  {
   "cell_type": "markdown",
   "metadata": {},
   "source": [
    "## Exercise 1 - Build a Calculator Tool\n",
    "\n",
    "**Objective:** Create a mathematical calculator tool that can handle complex calculations.\n",
    "\n",
    "Your task is to create a calculator tool that can perform mathematical operations. This tool should be able to handle expressions like \"2 + 3 * 4\", \"sqrt(16)\", and \"sin(π/2)\".\n",
    "\n",
    "### Instructions:\n",
    "1. Create a tool called `calculator_tool` using the `@tool` decorator.\n",
    "2. The tool should accept a mathematical expression as a string.\n",
    "3. Use Python's `eval()` function carefully (or better yet, use the `ast` module for safety).\n",
    "4. Test your tool with various mathematical expressions.\n",
    "5. Add your tool to the tools list and test it with the ReAct agent.\n",
    "\n",
    "### Starter Code:\n"
   ]
  },
  {
   "cell_type": "code",
   "execution_count": 24,
   "metadata": {},
   "outputs": [],
   "source": [
    "import math\n",
    "import ast\n",
    "import operator\n",
    "\n",
    "@tool\n",
    "def calculator_tool(expression: str) -> str:\n",
    "    \"\"\"\n",
    "    Safely evaluate mathematical expressions.\n",
    "    \n",
    "    :param expression: A mathematical expression as a string (e.g., \"2 + 3 * 4\")\n",
    "    :return: The result of the calculation\n",
    "    \"\"\"\n",
    "    # TODO: Implement safe mathematical evaluation\n",
    "    # Hint: You can use ast.literal_eval for simple expressions\n",
    "    # or create a safe evaluator for more complex math\n",
    "    pass\n",
    "\n",
    "# TODO: Add calculator_tool to your tools list\n",
    "# TODO: Test with the agent: \"What's 15% of 250 plus the square root of 144?\""
   ]
  },
  {
   "cell_type": "markdown",
   "metadata": {},
   "source": [
    "## Exercise 2 - Create a News Summary Tool\n",
    "\n",
    "**Objective:** Build a tool that can fetch and summarize recent news articles.\n",
    "\n",
    "Create a news summarization tool that works with the existing search functionality. This tool should take search results and create concise summaries of news articles.\n",
    "\n",
    "### Instructions:\n",
    "1. Create a `news_summarizer_tool` that takes news content and creates summaries.\n",
    "2. The tool should extract key information: headline, date, main points.\n",
    "3. Format the output in a readable way.\n",
    "4. Test it by asking the agent to \"search for recent AI news and summarize the top 3 articles\".\n",
    "\n",
    "### Starter Code:\n"
   ]
  },
  {
   "cell_type": "code",
   "execution_count": 25,
   "metadata": {},
   "outputs": [],
   "source": [
    "@tool\n",
    "def news_summarizer_tool(news_content: str) -> str:\n",
    "    \"\"\"\n",
    "    Summarize news articles from search results.\n",
    "    \n",
    "    :param news_content: Raw news content or search results\n",
    "    :return: A formatted summary of the news\n",
    "    \"\"\"\n",
    "    # TODO: Parse the news content\n",
    "    # TODO: Extract key information (headlines, dates, main points)\n",
    "    # TODO: Format into a readable summary\n",
    "    # Hint: You might want to split by articles and process each one\n",
    "    pass\n",
    "\n",
    "# TODO: Add to tools list and test with:\n",
    "# \"Find recent news about artificial intelligence and give me a summary\""
   ]
  },
  {
   "cell_type": "markdown",
   "metadata": {},
   "source": [
    "## Testing Your Solutions\n",
    "\n",
    "For each exercise, test your implementation with these commands:\n"
   ]
  },
  {
   "cell_type": "code",
   "execution_count": 26,
   "metadata": {},
   "outputs": [
    {
     "name": "stdout",
     "output_type": "stream",
     "text": [
      "================================\u001b[1m Human Message \u001b[0m=================================\n",
      "\n",
      "Calculate 15% of 250 plus the square root of 144\n",
      "==================================\u001b[1m Ai Message \u001b[0m==================================\n",
      "\n",
      "To solve the problem, we'll break it down into two parts:\n",
      "\n",
      "1. Calculate 15% of 250.\n",
      "2. Calculate the square root of 144.\n",
      "3. Add the results of those two calculations together.\n",
      "\n",
      "**Step 1: Calculate 15% of 250**\n",
      "\n",
      "15% of 250 can be calculated as follows:\n",
      "\\[\n",
      "15\\% \\times 250 = \\frac{15}{100} \\times 250 = 37.5\n",
      "\\]\n",
      "\n",
      "**Step 2: Calculate the square root of 144**\n",
      "\n",
      "The square root of 144 is:\n",
      "\\[\n",
      "\\sqrt{144} = 12\n",
      "\\]\n",
      "\n",
      "**Step 3: Add the results together**\n",
      "\n",
      "Now, add the two results:\n",
      "\\[\n",
      "37.5 + 12 = 49.5\n",
      "\\]\n",
      "\n",
      "So, the final answer is \\( 49.5 \\).\n"
     ]
    }
   ],
   "source": [
    "# Exercise 1 Test\n",
    "inputs = {\"messages\": [HumanMessage(content=\"Calculate 15% of 250 plus the square root of 144\")]}\n",
    "print_stream(graph.stream(inputs, stream_mode=\"values\"))"
   ]
  },
  {
   "cell_type": "code",
   "execution_count": 27,
   "metadata": {},
   "outputs": [
    {
     "name": "stdout",
     "output_type": "stream",
     "text": [
      "================================\u001b[1m Human Message \u001b[0m=================================\n",
      "\n",
      "Find recent AI news and summarize the top 3 articles\n",
      "==================================\u001b[1m Ai Message \u001b[0m==================================\n",
      "Tool Calls:\n",
      "  search_tool (call_rhltJS2ivR0jDy4NPsJL70pq)\n",
      " Call ID: call_rhltJS2ivR0jDy4NPsJL70pq\n",
      "  Args:\n",
      "    query: recent AI news\n",
      "=================================\u001b[1m Tool Message \u001b[0m=================================\n",
      "Name: search_tool\n",
      "\n",
      "[{\"title\": \"AI News & Artificial Intelligence | TechCrunch\", \"url\": \"https://techcrunch.com/category/artificial-intelligence/\", \"content\": \"### Instagram users can now use Meta AI editing tools directly in IG Stories\\n\\nInstagram users can now use Meta AI editing tools directly in IG Stories\\n\\n### Two days after OpenAI\\u2019s Atlas, Microsoft relaunches a nearly identical AI browser\\n\\nTwo days after OpenAI\\u2019s Atlas, Microsoft relaunches a nearly identical AI browser\\n\\n### Amazon will buy thousands of pedal-assist cargo vehicles from Rivian spinoff Also\\n\\nAmazon will buy thousands of pedal-assist cargo vehicles from Rivian spinoff Also [...] Instagram Stories\\n\\n### Instagram users can now use Meta AI editing tools directly in IG Stories\\n\\n### Two days after OpenAI\\u2019s Atlas, Microsoft relaunches a nearly identical AI browser\\n\\n### Microsoft\\u2019s Mico is a \\u2018Clippy\\u2019 for the AI era\\n\\nimage of a humanoid hand reaching out to a human hand\\n\\n### Tensormesh raises $4.5M to squeeze more inference out of AI server loads [...] ### OpenAI launches an AI-powered browser: ChatGPT Atlas\\n\\nOpenAI launches an AI-powered browser: ChatGPT Atlas\\n\\n### Apple alerts exploit developer that his iPhone was targeted with government spyware\\n\\nApple alerts exploit developer that his iPhone was targeted with government spyware\\n\\n### Amazon identifies the issue that broke much of the internet, says AWS is back to normal\\n\\nAmazon identifies the issue that broke much of the internet, says AWS is back to normal\\n\\nTechCrunch Logo\", \"score\": 0.70531887}, {\"title\": \"The 2025 AI Index Report | Stanford HAI\", \"url\": \"https://hai.stanford.edu/ai-index/2025-ai-index-report\", \"content\": \"In 2024, U.S. federal agencies introduced 59 AI-related regulations\\u2014more than double the number in 2023\\u2014and issued by twice as many agencies. Globally, legislative mentions of AI rose 21.3% across 75 countries since 2023, marking a ninefold increase since 2016. Alongside growing attention, governments are investing at scale: Canada pledged $2.4 billion, China launched a $47.5 billion semiconductor fund, France committed \\u20ac109 billion, India pledged $1.25 billion, and Saudi Arabia\\u2019s Project [...] ### 2. AI is increasingly embedded in everyday life.\\n\\nFrom healthcare to transportation, AI is rapidly moving from the lab to daily life. In 2023, the FDA approved 223 AI-enabled medical devices, up from just six in 2015. On the roads, self-driving cars are no longer experimental: Waymo, one of the largest U.S. operators, provides over 150,000 autonomous rides each week, while Baidu\\u2019s affordable Apollo Go robotaxi fleet now serves numerous cities across China. [...] In 2024, U.S. private AI investment grew to $109.1 billion\\u2014nearly 12 times China\\u2019s $9.3 billion and 24 times the U.K.\\u2019s $4.5 billion. Generative AI saw particularly strong momentum, attracting $33.9 billion globally in private investment\\u2014an 18.7% increase from 2023. AI business usage is also accelerating: 78% of organizations reported using AI in 2024, up from 55% the year before. Meanwhile, a growing body of research confirms that AI boosts productivity and, in most cases, helps narrow skill\", \"score\": 0.68090034}, {\"title\": \"AI News | Latest Headlines and Developments | Reuters\", \"url\": \"https://www.reuters.com/technology/artificial-intelligence/\", \"content\": \"Meta Platforms CEO Mark Zuckerberg has appointed insider Vishal Shah to a key artificial intelligence-linked role, heading product management for AI products, the social media giant said on Monday.\\n\\nPeople walk behind a logo of Meta Platforms company, during a conference in Mumbai,\\n\\n## Reuters Events Logo\\n\\nReuters Events Logo\\n\\nEvent\\n\\n17-18 Nov 2025 \\u00b7 New York, USA\\n\\nArtificial Intelligence silicon chip with Reuters logo\\n\\nEvent\\n\\n27-28 Apr 2026 \\u00b7 New York, USA [...] Artificial Intelligence Chip with Reuters logo\\n\\nEvent\\n\\nJune 2026 \\u00b7 London, USA\\n\\nArtificial Intelligence silicon chip with Reuters logo\\n\\nEvent\\n\\nSep 2026 \\u00b7 Austin, USA\\n\\nArtificial Intelligence Chip with Reuters logo\\n\\n## More Coverage\\n\\n## Site Index\\n\\n## Browse\\n\\n## About Reuters\\n\\n## Stay Informed\\n\\n## Information you can trust [...] ## Browse World\\n\\n## Browse Business\\n\\n## Browse Markets\\n\\n## Browse Sustainability\\n\\n## Browse Legal\\n\\n## Browse Commentary\\n\\n## Browse Technology\\n\\n## Sports\\n\\n## Science\\n\\n## Lifestyle\\n\\n## City Memo\\n\\n## Graphics\\n\\n## Pictures\\n\\n## Wider Image\\n\\n## Podcasts\\n\\n## Live\\n\\n## Fact Check\\n\\n## Video\\n\\n## Sponsored Content\\n\\n# Artificial Intelligence\\n\\nHow Artificial Intelligence is creating the next normal\", \"score\": 0.66045773}, {\"title\": \"AI is driving huge productivity gains for large companies while small ...\", \"url\": \"https://www.cnbc.com/2025/10/27/ai-is-driving-huge-productivity-gains-for-large-companies-while-small-companies-get-left-behind.html\", \"content\": \"\\\"While productivity for the S&P 500 has soared 5.5% since ChatGPT, it's down 12.3% for the Russell 2000,\\\" Wells Fargo equity strategist Ohsung Kwon wrote in recent note to clients. \\\"We see other examples of diverging trends in consumer, industrial, and financial markets.\\\"\\n\\nBreakthrough advancements in AI this year have led major corporations such as Amazon to notably go all-in on the technology, finding ways to eliminate human roles that can be replaced by AI machines. [...] Klarna, which has been among the most transparent in how AI is affecting its headcount, has shrunk its workforce by about 40%, in part due to its AI investments. CrowdStrike in May announced cuts to 5% of the company's global workforce, citing AI efficiencies and saying that the technology \\\"flattens our hiring curve.\\\" IBM's CEO has forecasted 30% of non-customer-facing roles to be cut by 2028 and told the Wall Street Journal earlier this year that AI chatbots have replaced 200 HR employees, [...] Large-cap companies are seeing steady AI-related productivity gains since the release of OpenAI's ChatGPT model in 2022 in terms of their real revenue per worker, according to a Wells Fargo analysis. Small-cap names are witnessing a decline over the same period, meanwhile, the firm found.\", \"score\": 0.5996498}, {\"title\": \"AI Magazine: Home of AI and Artificial Intelligence News\", \"url\": \"https://aimagazine.com/\", \"content\": \"### How Are Ericsson & Vodafone Using AI to Modernise Networks?\\n\\n### BT: Why Human Firewalls Are Critical in AI Cybersecurity\\n\\n### Why Nokia Pushes for Global AI Standards in the Telco Sector\\n\\n## AI Applications\\n\\n### How Amazon\\u2019s AI Glasses Power Smart Deliveries\\n\\nSmart delivery just got smarter \\u2014 Amazon\\u2019s AI glasses help drivers navigate, detect hazards and deliver packages more efficiently\\u2026\\n\\n### This Week\\u2019s Top 5 Stories in AI\\n\\n### Bentley Integrates AI in Next-Gen Infrastructure Tools [...] ### Inside Microsoft\\u2019s Copilot Updates for Human-Centred AI\\n\\n### How Salesforce and Stripe Integrate AI Commerce Protocol\\n\\nSalesforce and Stripe integrate Agentic Commerce Protocol, enabling AI agents to process transactions through ChatGPT and conversational interfaces\\u2026\\n\\n### Can Starcloud and Crusoe Launch Data Centres in Space?\\n\\nCrusoe partners with Starcloud to deploy orbital cloud computing infrastructure using solar power with GPU capacity for AI workloads expected by 2027\\u2026 [...] ### The Findings From WEF & MIT\\u2019s AI Earth Observation Research\\n\\nWEF and MIT Media Lab release research on AI and machine learning for satellite data processing, disaster response and weather forecasting\\u2026\\n\\n### Nokia: Is The AI Boom A Supercycle For Data Centres?\\n\\n### How AI & Human Error Drive a Surge in Mobile Cyberattacks\\n\\n### Behind Google\\u2019s AI Training Funding for Small Businesses\\n\\n## Interviews\\n\\n### Nirupa Chander\\n\\n### Senior Vice President - Secure Power & Data Centres - International\", \"score\": 0.57952}]\n",
      "==================================\u001b[1m Ai Message \u001b[0m==================================\n",
      "Tool Calls:\n",
      "  search_tool (call_ucEXZyloyvRtbHxgHIXn6RDm)\n",
      " Call ID: call_ucEXZyloyvRtbHxgHIXn6RDm\n",
      "  Args:\n",
      "    query: Instagram Meta AI editing tools news\n",
      "  search_tool (call_MJgrfy6bONM5IsBqzIY8S0Uy)\n",
      " Call ID: call_MJgrfy6bONM5IsBqzIY8S0Uy\n",
      "  Args:\n",
      "    query: AI Index Report Stanford 2025 news\n",
      "  search_tool (call_toSHyvieL2Rtyqg7Z6wiw4nT)\n",
      " Call ID: call_toSHyvieL2Rtyqg7Z6wiw4nT\n",
      "  Args:\n",
      "    query: Meta appoints new AI product manager news\n",
      "=================================\u001b[1m Tool Message \u001b[0m=================================\n",
      "Name: search_tool\n",
      "\n",
      "[{\"title\": \"Meta Names Vishal Shah as AI Product Management Head - IndexBox\", \"url\": \"https://www.indexbox.io/blog/meta-appoints-vishal-shah-to-lead-ai-product-management-1/\", \"content\": \"We use cookies to improve your experience and for marketing. Read our cookie policy or manage cookies.\\n\\nGo to the Platform\\n\\n# Meta Appoints Vishal Shah to Lead AI Product Management\\n\\nMeta Platforms has appointed insider Vishal Shah to head product management for artificial intelligence products, the company said on Monday. The Financial Times first reported the development, citing an internal memo. [...] A Meta spokesperson confirmed Shah's new role to Reuters but declined to provide further details about the appointment.\\n\\nThis management change follows Meta's announcement last week that it was eliminating approximately 600 roles in its Superintelligence Labs unit as part of an effort to make its AI operations more flexible and responsive.\\n\\nSource: IndexBox Market Intelligence Platform\\n\\n## 1. INTRODUCTION\\n\\nMaking Data-Driven Decisions to Grow Your Business\\n\\n## 2. EXECUTIVE SUMMARY [...] The move highlights the technology industry's focus on AI, with Meta competing against companies like Microsoft and startups including OpenAI and Anthropic to develop advanced AI models.\\n\\nShah previously led product management for Instagram for over six years before becoming vice president of Metaverse in 2021. According to the Financial Times report, Shah will report to Meta's head of AI product, Nat Friedman.\", \"score\": 0.8961153}, {\"title\": \"Meta appoints insider Vishal Shah to key AI role\", \"url\": \"https://www.globalbankingandfinance.com/meta-platforms-ai-two/\", \"content\": \"# Meta appoints insider Vishal Shah to key AI role\\n\\nPublished by Global Banking and Finance Review\\n\\nPosted on October 27, 2025\\n\\nFeatured image for article about Headlines\\n\\n(Reuters) -Meta Platforms CEO Mark Zuckerberg has appointed insider Vishal Shah to a key artificial intelligence-linked role, heading product management for AI products, the social media giant said on Monday. [...] The development was first reported by the Financial Times earlier on Monday, citing an internal memo. Shah will report to Meta's head of AI product, Nat Friedman, according to the report.\\n\\nA spokesperson for Meta confirmed Shah's new role but declined to comment on details regarding the appointment when contacted by Reuters. [...] This marks another reshuffle for Meta's management, after the company last week announced it was cutting around 600 roles in its Superintelligence Labs unit, as it looks to make its AI unit more flexible and responsive.\\n\\n(Reporting by Anhata Rooprai and Jaspreet Singh in Bengaluru and Echo Wang in New York; Editing by Alan Barona)\\n\\n### Why waste money on news and opinions when you can access them for free?\\n\\nTake advantage of our newsletter subscription and stay informed on the go!\", \"score\": 0.8925721}, {\"title\": \"Meta Appoints Vishal Shah to Lead AI Product Management\", \"url\": \"https://www.indexbox.io/blog/meta-appoints-vishal-shah-to-lead-ai-product-management/\", \"content\": \"We use cookies to improve your experience and for marketing. Read our cookie policy or manage cookies.\\n\\nGo to the Platform\\n\\n# Meta Appoints Vishal Shah to Lead AI Product Management\\n\\nMeta Platforms CEO Mark Zuckerberg has appointed insider Vishal Shah to head product management for AI products, the company said on Monday. The Financial Times first reported the development, citing an internal memo. [...] A spokesperson for Meta confirmed Shah's new role but declined to comment on details regarding the appointment when contacted by Reuters.\\n\\nThis marks another reshuffle for Meta's management, after the company last week announced it was cutting around 600 roles in its Superintelligence Labs unit, as it looks to make its AI unit more flexible and responsive.\\n\\nSource: IndexBox Market Intelligence Platform\\n\\n## 1. INTRODUCTION\\n\\nMaking Data-Driven Decisions to Grow Your Business [...] The move underscores Big Tech's focus on the booming technology, directing resources and top talent towards AI development. Meta is competing against Microsoft and startups such as OpenAI and Anthropic to build the most sophisticated AI models.\\n\\nShah was in charge of product management for Instagram at Meta for over six years, before becoming vice president of Metaverse in 2021. According to the report, Shah will report to Meta's head of AI product, Nat Friedman.\", \"score\": 0.8898454}, {\"title\": \"Meta Shifts Metaverse Executive to AI Following Job Cuts - Bloomberg\", \"url\": \"https://www.bloomberg.com/news/articles/2025-10-27/meta-shifts-metaverse-executive-to-ai-following-job-cuts\", \"content\": \"Vishal Shah, who has led Meta\\u2019s efforts to build the metaverse for the past four years, is moving to the Meta Superintelligence Labs group to lead AI product under recent high-profile hire Nat Friedman, according to an internal memo sent to employees Monday, a person familiar with the matter said. Shah, who ran product at Instagram before working on the metaverse, will be responsible for taking the company\\u2019s AI technology, including its Meta AI chatbot, and implementing it into Meta\\u2019s various [...] Contact us: Provide news feedback or report an error\\n\\nConfidential tip? Send a tip to our reporters\\n\\nSite feedback: Take our Survey\\n\\nBy Kurt Wagner\\n\\nOctober 27, 2025 at 6:10 PM UTC\\n\\nSave\\n\\nTranslate\\n\\nMeta Platforms Inc. moved its top metaverse executive to oversee AI products following hundreds of job cuts last week, a sign the company is still working to structure its teams even as it spends aggressively to compete in the heated artificial intelligence race.\", \"score\": 0.82492816}, {\"title\": \"Meta appoints Vishal Shah to key role in Meta's AI team: Report\", \"url\": \"https://m.economictimes.com/tech/artificial-intelligence/meta-appoints-vishal-shah-to-key-role-in-metas-ai-team-report/articleshow/124855314.cms\", \"content\": \"Popular Categories\\n\\nHot on Web\\n\\nIn Case you missed it\\n\\nTop Searched Companies\\n\\nOther useful Links\\n\\nTop Calculators\\n\\nTop Prime Articles\\n\\nTop Slideshow\\n\\nTop Definitions\\n\\nTop Story Listing\\n\\nPrivate Companies\\n\\nTop Commodities\\n\\nTop Market Pages\\n\\nLatest News\\n\\nfollow us on\\n\\nDownload ET App: [...] Image for TCS denies losing UK\\u2019s Marks & Spencer contract over \\u00a3300 million cyberattack\\nImage for Lenskart founders Peyush and Neha Bansal to net Rs 1,200 crore from IPO; investors eye 5-17X paper gains\\nImage for Dunzo founder Kabeer Biswas exits Flipkart Minutes; Kunal Gupta takes charge\\nImage for Ola Electric scales up service network into open platform for spare parts, service\\nImage for Microsoft Teams turns snitch, will tell your boss if you\\u2019re in office or not\\nThe Economic Times [...] #### Poll of the Day\\n\\n### Will Trump 2.0 mean good news for Indian startups?\\n\\n#### Latest from ET\\n\\n## Tech Top Trending Terms\\n\\nWealth edition\\n\\n#### Popular in Tech\", \"score\": 0.7771143}]\n",
      "==================================\u001b[1m Ai Message \u001b[0m==================================\n",
      "\n",
      "Here are the top three recent articles related to AI news, summarizing the significant developments:\n",
      "\n",
      "### 1. Instagram Introduces New AI Editing Tools\n",
      "Meta has rolled out a new feature called **Meta AI Restyle** for Instagram Stories that allows users to edit their photos and videos using text prompts. This feature enhances the user experience by making AI editing more accessible, where users can now modify images by simply typing in commands. Users can delete unwanted items or completely change the background of their photos. This update aims to integrate AI tools more significantly into the app and comes alongside new parental controls to ensure safe use among teenagers. The \"add yours\" sticker is also introduced to encourage sharing AI modifications among users.  \n",
      "[Read more here](https://metricool.com/instagram-restyle-ai/)\n",
      "\n",
      "### 2. Stanford HAI Releases 2025 AI Index Report\n",
      "The **Stanford Institute for Human-Centered AI (HAI)** has published its 2025 AI Index report, which shows record growth in AI capabilities and investment. Key findings indicate that U.S. federal agencies introduced a significant increase in AI-related regulations and public optimism surrounding AI continues to rise. The report also highlighted that AI is increasingly embedded in everyday life, with notable applications in healthcare, where the FDA approved a record number of AI-enabled devices. This comprehensive report aims to provide clarity on AI's evolution and its impact on society.  \n",
      "[Read more here](https://www.businesswire.com/news/home/20250407539812/en/Stanford-HAIs-2025-AI-Index-Reveals-Record-Growth-in-AI-Capabilities-Investment-and-Regulation)\n",
      "\n",
      "### 3. Meta Appoints Vishal Shah as Head of AI Product Management\n",
      "Meta has appointed **Vishal Shah** to lead its artificial intelligence product management team, following a recent organizational restructuring that included laying off around 600 employees in its Superintelligence Labs unit. Shah previously managed product management for Instagram and is expected to leverage his experience to further develop Meta's AI initiatives under Nat Friedman, the head of AI product. This move comes as Meta intensifies its competition with other tech giants in the AI space.  \n",
      "[Read more here](https://www.indexbox.io/blog/meta-appoints-vishal-shah-to-lead-ai-product-management-1/)\n",
      "\n",
      "These articles reflect ongoing advancements in AI technology, regulatory developments, and corporate strategies, showcasing a dynamic landscape in the field.\n"
     ]
    }
   ],
   "source": [
    "# Exercise 2 Test  \n",
    "inputs = {\"messages\": [HumanMessage(content=\"Find recent AI news and summarize the top 3 articles\")]}\n",
    "print_stream(graph.stream(inputs, stream_mode=\"values\"))"
   ]
  },
  {
   "cell_type": "markdown",
   "metadata": {},
   "source": [
    "## Authors\n"
   ]
  },
  {
   "cell_type": "markdown",
   "metadata": {},
   "source": [
    "[Joseph Santarcangelo](https://author.skills.network/instructors/joseph_santarcangelo): Joseph has a Ph.D. in Electrical Engineering, his research focused on using machine learning, signal processing, and computer vision to determine how videos impact human cognition. Joseph has been working for IBM since he completed his PhD.\n",
    "\n",
    "[Tenzin Migmar](https://author.skills.network/instructors/tenzin_migmar): Hi, I'm Tenzin. I'm a data scientist intern at IBM interested in applying machine learning to solve difficult problems. Prior to joining IBM, I worked as a research assistant on projects exploring perspectivism and personalization within large language models. In my free time, I enjoy recreational programming and learning to cook new recipes.\n",
    "\n",
    "[Faranak Heidari](https://www.linkedin.com/in/faranakhdr/) is a data scientist and AI developer in IBM. \n"
   ]
  },
  {
   "cell_type": "markdown",
   "metadata": {},
   "source": [
    "<!--#### Change Log\n"
   ]
  },
  {
   "cell_type": "markdown",
   "metadata": {},
   "source": [
    "<!--\n",
    "|Date (YYYY-MM-DD)|Version|Changed By|Change Description|\n",
    "|-|-|-|-|\n",
    "|2024-02-23|0.2|Elio Di Nino|Update library documentation|\n",
    "|2020-07-17|0.1|Sam|Create lab template|\n",
    "-->\n"
   ]
  },
  {
   "cell_type": "markdown",
   "metadata": {},
   "source": [
    "Copyright © IBM Corporation. All rights reserved.\n"
   ]
  },
  {
   "cell_type": "code",
   "execution_count": null,
   "metadata": {},
   "outputs": [],
   "source": []
  }
 ],
 "metadata": {
  "kernelspec": {
   "display_name": "Python 3 (ipykernel)",
   "language": "python",
   "name": "python3"
  },
  "language_info": {
   "codemirror_mode": {
    "name": "ipython",
    "version": 3
   },
   "file_extension": ".py",
   "mimetype": "text/x-python",
   "name": "python",
   "nbconvert_exporter": "python",
   "pygments_lexer": "ipython3",
   "version": "3.12.8"
  },
  "prev_pub_hash": "8c934cd1f83b596adfcbc5587f1033178f6fdba432838b18df7d9d0e24b2f6c9"
 },
 "nbformat": 4,
 "nbformat_minor": 4
}
